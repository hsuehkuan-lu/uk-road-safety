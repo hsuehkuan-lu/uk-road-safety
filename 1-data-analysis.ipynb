{
 "cells": [
  {
   "cell_type": "markdown",
   "id": "photographic-terrain",
   "metadata": {},
   "source": [
    "# UK Road Safety\n",
    "\n",
    "Target 1: Develop a prediction model to predict whether an accident is \"FATAL\". <br>\n",
    "Target 2: Perform an exploratory data analysis."
   ]
  },
  {
   "cell_type": "markdown",
   "id": "missing-parks",
   "metadata": {},
   "source": [
    "## Data Analysis"
   ]
  },
  {
   "cell_type": "code",
   "execution_count": 1,
   "id": "sweet-mentor",
   "metadata": {},
   "outputs": [],
   "source": [
    "import glob\n",
    "import pandas as pd"
   ]
  },
  {
   "cell_type": "code",
   "execution_count": null,
   "id": "human-petite",
   "metadata": {},
   "outputs": [],
   "source": [
    "path = r'data/'\n",
    "\n",
    "all_files = glob.glob(path + \"/*.csv\")\n",
    "\n",
    "li = []\n",
    "\n",
    "for filename in all_files:\n",
    "\n",
    "    df = pd.read_csv(filename, index_col=None, header=0)\n",
    "\n",
    "    li.append(df)\n",
    "\n",
    "frame = pd.concat(li, axis=0, ignore_index=True)"
   ]
  }
 ],
 "metadata": {
  "kernelspec": {
   "display_name": "torch",
   "language": "python",
   "name": "torch"
  },
  "language_info": {
   "codemirror_mode": {
    "name": "ipython",
    "version": 3
   },
   "file_extension": ".py",
   "mimetype": "text/x-python",
   "name": "python",
   "nbconvert_exporter": "python",
   "pygments_lexer": "ipython3",
   "version": "3.8.5"
  }
 },
 "nbformat": 4,
 "nbformat_minor": 5
}
