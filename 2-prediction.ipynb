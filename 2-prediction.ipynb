{
 "cells": [
  {
   "cell_type": "markdown",
   "id": "changing-practice",
   "metadata": {},
   "source": [
    "# Accident Fatal Prediction Model"
   ]
  },
  {
   "cell_type": "code",
   "execution_count": 1,
   "id": "sunrise-insider",
   "metadata": {},
   "outputs": [],
   "source": [
    "import glob\n",
    "import numpy as np\n",
    "import pandas as pd\n",
    "import matplotlib.pyplot as plt\n",
    "import seaborn as sns\n",
    "from sklearn.model_selection import train_test_split\n",
    "from sklearn.preprocessing import LabelEncoder"
   ]
  },
  {
   "cell_type": "markdown",
   "id": "registered-friendship",
   "metadata": {},
   "source": [
    "## Preprocessing\n",
    "\n",
    "First preprocess accident data, then vehicle data. After cleaning both data then perform merge operation."
   ]
  },
  {
   "cell_type": "code",
   "execution_count": 2,
   "id": "acting-terminology",
   "metadata": {},
   "outputs": [],
   "source": [
    "accident_features = [\n",
    " 'Accident_Index',\n",
    " 'Road_Type',\n",
    " 'Time',\n",
    " 'Speed_limit',\n",
    " 'Junction_Detail',\n",
    " 'Light_Conditions',\n",
    " 'Weather_Conditions',\n",
    " 'Road_Surface_Conditions',\n",
    " 'Urban_or_Rural_Area',\n",
    " 'Accident_Severity'\n",
    "]\n",
    "vehicle_features = [\n",
    "    'Accident_Index',\n",
    "    'Vehicle_Type',\n",
    "    'Vehicle_Manoeuvre',\n",
    "    'Engine_Capacity_(CC)',\n",
    "    'Journey_Purpose_of_Driver',\n",
    "    'Sex_of_Driver',\n",
    "    'Age_Band_of_Driver',\n",
    "    'Age_of_Vehicle'\n",
    "]\n",
    "label_column = 'Accident_Severity'"
   ]
  },
  {
   "cell_type": "code",
   "execution_count": 3,
   "id": "spanish-reserve",
   "metadata": {},
   "outputs": [
    {
     "name": "stderr",
     "output_type": "stream",
     "text": [
      "/Users/hlu/anaconda3/envs/torch/lib/python3.8/site-packages/IPython/core/interactiveshell.py:3337: DtypeWarning: Columns (0) have mixed types.Specify dtype option on import or set low_memory=False.\n",
      "  if (await self.run_code(code, result,  async_=asy)):\n"
     ]
    }
   ],
   "source": [
    "def read_files(filepath, cols):\n",
    "    all_files = glob.glob(filepath)\n",
    "    li = []\n",
    "    for filename in all_files:\n",
    "        df = pd.read_csv(filename, index_col=None, header=0, usecols=cols)\n",
    "        li.append(df)\n",
    "    return pd.concat(li, axis=0, ignore_index=True)\n",
    "\n",
    "accidents_df = read_files('data/accident/*.csv', accident_features)\n",
    "vehicles_df = read_files('data/vehicle/*.csv', vehicle_features)\n",
    "\n",
    "accident_features.remove('Time')\n",
    "accident_features.append('Daytime')"
   ]
  },
  {
   "cell_type": "code",
   "execution_count": 4,
   "id": "saved-halifax",
   "metadata": {},
   "outputs": [
    {
     "name": "stdout",
     "output_type": "stream",
     "text": [
      "<class 'pandas.core.frame.DataFrame'>\n",
      "RangeIndex: 2287427 entries, 0 to 2287426\n",
      "Data columns (total 10 columns):\n",
      " #   Column                   Dtype  \n",
      "---  ------                   -----  \n",
      " 0   Accident_Index           object \n",
      " 1   Accident_Severity        int64  \n",
      " 2   Time                     object \n",
      " 3   Road_Type                int64  \n",
      " 4   Speed_limit              float64\n",
      " 5   Junction_Detail          int64  \n",
      " 6   Light_Conditions         int64  \n",
      " 7   Weather_Conditions       int64  \n",
      " 8   Road_Surface_Conditions  int64  \n",
      " 9   Urban_or_Rural_Area      int64  \n",
      "dtypes: float64(1), int64(7), object(2)\n",
      "memory usage: 174.5+ MB\n"
     ]
    }
   ],
   "source": [
    "accidents_df.info()"
   ]
  },
  {
   "cell_type": "code",
   "execution_count": 5,
   "id": "metropolitan-survivor",
   "metadata": {},
   "outputs": [
    {
     "name": "stdout",
     "output_type": "stream",
     "text": [
      "<class 'pandas.core.frame.DataFrame'>\n",
      "RangeIndex: 4196486 entries, 0 to 4196485\n",
      "Data columns (total 8 columns):\n",
      " #   Column                     Dtype \n",
      "---  ------                     ----- \n",
      " 0   Accident_Index             object\n",
      " 1   Vehicle_Type               int64 \n",
      " 2   Vehicle_Manoeuvre          int64 \n",
      " 3   Journey_Purpose_of_Driver  int64 \n",
      " 4   Sex_of_Driver              int64 \n",
      " 5   Age_Band_of_Driver         int64 \n",
      " 6   Engine_Capacity_(CC)       int64 \n",
      " 7   Age_of_Vehicle             int64 \n",
      "dtypes: int64(7), object(1)\n",
      "memory usage: 256.1+ MB\n"
     ]
    }
   ],
   "source": [
    "vehicles_df.info()"
   ]
  },
  {
   "cell_type": "markdown",
   "id": "administrative-slave",
   "metadata": {},
   "source": [
    "### Processing Accident Data"
   ]
  },
  {
   "cell_type": "code",
   "execution_count": 6,
   "id": "desperate-volume",
   "metadata": {},
   "outputs": [],
   "source": [
    "# Transform task to binary classification problem (Fatal or Non-Fatal)\n",
    "def convert_label(label):\n",
    "    if label == 1:\n",
    "        return 1\n",
    "    else:\n",
    "        return 0\n",
    "accidents_df[label_column] = accidents_df[label_column].apply(convert_label)"
   ]
  },
  {
   "cell_type": "code",
   "execution_count": 7,
   "id": "coordinate-headline",
   "metadata": {},
   "outputs": [],
   "source": [
    "accidents_df['Hour'] = pd.to_numeric(accidents_df['Time'].str[0:2])\n",
    "accidents_df = accidents_df.dropna(subset=['Hour'])\n",
    "accidents_df['Hour'] = accidents_df['Hour'].astype('int')"
   ]
  },
  {
   "cell_type": "code",
   "execution_count": 8,
   "id": "sixth-michigan",
   "metadata": {},
   "outputs": [
    {
     "data": {
      "text/html": [
       "<div>\n",
       "<style scoped>\n",
       "    .dataframe tbody tr th:only-of-type {\n",
       "        vertical-align: middle;\n",
       "    }\n",
       "\n",
       "    .dataframe tbody tr th {\n",
       "        vertical-align: top;\n",
       "    }\n",
       "\n",
       "    .dataframe thead th {\n",
       "        text-align: right;\n",
       "    }\n",
       "</style>\n",
       "<table border=\"1\" class=\"dataframe\">\n",
       "  <thead>\n",
       "    <tr style=\"text-align: right;\">\n",
       "      <th></th>\n",
       "      <th>Daytime</th>\n",
       "      <th>Time</th>\n",
       "      <th>Hour</th>\n",
       "    </tr>\n",
       "  </thead>\n",
       "  <tbody>\n",
       "    <tr>\n",
       "      <th>0</th>\n",
       "      <td>3</td>\n",
       "      <td>17:42</td>\n",
       "      <td>17</td>\n",
       "    </tr>\n",
       "    <tr>\n",
       "      <th>1</th>\n",
       "      <td>3</td>\n",
       "      <td>17:36</td>\n",
       "      <td>17</td>\n",
       "    </tr>\n",
       "    <tr>\n",
       "      <th>2</th>\n",
       "      <td>5</td>\n",
       "      <td>00:15</td>\n",
       "      <td>0</td>\n",
       "    </tr>\n",
       "    <tr>\n",
       "      <th>3</th>\n",
       "      <td>2</td>\n",
       "      <td>10:35</td>\n",
       "      <td>10</td>\n",
       "    </tr>\n",
       "    <tr>\n",
       "      <th>4</th>\n",
       "      <td>4</td>\n",
       "      <td>21:13</td>\n",
       "      <td>21</td>\n",
       "    </tr>\n",
       "  </tbody>\n",
       "</table>\n",
       "</div>"
      ],
      "text/plain": [
       "   Daytime   Time  Hour\n",
       "0        3  17:42    17\n",
       "1        3  17:36    17\n",
       "2        5  00:15     0\n",
       "3        2  10:35    10\n",
       "4        4  21:13    21"
      ]
     },
     "execution_count": 8,
     "metadata": {},
     "output_type": "execute_result"
    }
   ],
   "source": [
    "def convert_hour(hour):\n",
    "    if hour >= 5 and hour < 10:\n",
    "        return 1\n",
    "    elif hour >= 10 and hour < 15:\n",
    "        return 2\n",
    "    elif hour >= 15 and hour < 19:\n",
    "        return 3\n",
    "    elif hour >= 19 and hour < 23:\n",
    "        return 4\n",
    "    else:\n",
    "        return 5\n",
    "accidents_df['Daytime'] = accidents_df['Hour'].apply(convert_hour)\n",
    "accidents_df[['Daytime', 'Time', 'Hour']].head()"
   ]
  },
  {
   "cell_type": "code",
   "execution_count": 9,
   "id": "great-vertex",
   "metadata": {},
   "outputs": [],
   "source": [
    "accidents_df = accidents_df[accident_features]"
   ]
  },
  {
   "cell_type": "code",
   "execution_count": 10,
   "id": "major-hanging",
   "metadata": {},
   "outputs": [
    {
     "name": "stdout",
     "output_type": "stream",
     "text": [
      "<class 'pandas.core.frame.DataFrame'>\n",
      "Int64Index: 2287195 entries, 0 to 2287426\n",
      "Data columns (total 10 columns):\n",
      " #   Column                   Dtype  \n",
      "---  ------                   -----  \n",
      " 0   Accident_Index           object \n",
      " 1   Road_Type                int64  \n",
      " 2   Speed_limit              float64\n",
      " 3   Junction_Detail          int64  \n",
      " 4   Light_Conditions         int64  \n",
      " 5   Weather_Conditions       int64  \n",
      " 6   Road_Surface_Conditions  int64  \n",
      " 7   Urban_or_Rural_Area      int64  \n",
      " 8   Accident_Severity        int64  \n",
      " 9   Daytime                  int64  \n",
      "dtypes: float64(1), int64(8), object(1)\n",
      "memory usage: 191.9+ MB\n"
     ]
    }
   ],
   "source": [
    "accidents_df.info()"
   ]
  },
  {
   "cell_type": "code",
   "execution_count": 11,
   "id": "optional-mandate",
   "metadata": {},
   "outputs": [],
   "source": [
    "accidents_df = accidents_df.dropna()"
   ]
  },
  {
   "cell_type": "code",
   "execution_count": 12,
   "id": "underlying-request",
   "metadata": {},
   "outputs": [
    {
     "data": {
      "text/plain": [
       "2287158"
      ]
     },
     "execution_count": 12,
     "metadata": {},
     "output_type": "execute_result"
    }
   ],
   "source": [
    "len(accidents_df)"
   ]
  },
  {
   "cell_type": "code",
   "execution_count": 13,
   "id": "absolute-arthritis",
   "metadata": {},
   "outputs": [
    {
     "data": {
      "text/plain": [
       "0    0.987017\n",
       "1    0.012983\n",
       "Name: Accident_Severity, dtype: float64"
      ]
     },
     "execution_count": 13,
     "metadata": {},
     "output_type": "execute_result"
    }
   ],
   "source": [
    "accidents_df['Accident_Severity'].value_counts(normalize=True)"
   ]
  },
  {
   "cell_type": "code",
   "execution_count": 14,
   "id": "occupational-europe",
   "metadata": {},
   "outputs": [
    {
     "data": {
      "text/plain": [
       "Accident_Index             0\n",
       "Road_Type                  0\n",
       "Speed_limit                0\n",
       "Junction_Detail            0\n",
       "Light_Conditions           0\n",
       "Weather_Conditions         0\n",
       "Road_Surface_Conditions    0\n",
       "Urban_or_Rural_Area        0\n",
       "Accident_Severity          0\n",
       "Daytime                    0\n",
       "dtype: int64"
      ]
     },
     "execution_count": 14,
     "metadata": {},
     "output_type": "execute_result"
    }
   ],
   "source": [
    "accidents_df.isna().sum()"
   ]
  },
  {
   "cell_type": "code",
   "execution_count": 16,
   "id": "outdoor-appliance",
   "metadata": {},
   "outputs": [],
   "source": [
    "accidents_df = accidents_df[\n",
    "    (accidents_df['Road_Type'] != -1) &\n",
    "    (accidents_df['Speed_limit'] <= 70) &\n",
    "    (accidents_df['Speed_limit'] >= 30) &\n",
    "    (accidents_df['Junction_Detail'] != -1) &\n",
    "    (accidents_df['Light_Conditions'] != -1) &\n",
    "    (accidents_df['Weather_Conditions'] != -1) &\n",
    "    (accidents_df['Road_Surface_Conditions'] != -1) &\n",
    "    (accidents_df['Urban_or_Rural_Area'] != -1)\n",
    "]"
   ]
  },
  {
   "cell_type": "code",
   "execution_count": 17,
   "id": "natural-reserve",
   "metadata": {},
   "outputs": [
    {
     "data": {
      "text/plain": [
       "array([30., 40., 50., 60., 70.])"
      ]
     },
     "execution_count": 17,
     "metadata": {},
     "output_type": "execute_result"
    }
   ],
   "source": [
    "accidents_df['Speed_limit'].unique()"
   ]
  },
  {
   "cell_type": "code",
   "execution_count": 18,
   "id": "productive-entertainment",
   "metadata": {},
   "outputs": [
    {
     "name": "stderr",
     "output_type": "stream",
     "text": [
      "<ipython-input-18-a0ea15e2509c>:2: SettingWithCopyWarning: \n",
      "A value is trying to be set on a copy of a slice from a DataFrame.\n",
      "Try using .loc[row_indexer,col_indexer] = value instead\n",
      "\n",
      "See the caveats in the documentation: https://pandas.pydata.org/pandas-docs/stable/user_guide/indexing.html#returning-a-view-versus-a-copy\n",
      "  accidents_df['Speed_limit'] = label_enc.fit_transform(accidents_df['Speed_limit'])\n"
     ]
    },
    {
     "data": {
      "text/plain": [
       "0          0\n",
       "1          0\n",
       "2          0\n",
       "3          0\n",
       "4          0\n",
       "          ..\n",
       "2287422    3\n",
       "2287423    3\n",
       "2287424    3\n",
       "2287425    0\n",
       "2287426    3\n",
       "Name: Speed_limit, Length: 2217747, dtype: int64"
      ]
     },
     "execution_count": 18,
     "metadata": {},
     "output_type": "execute_result"
    }
   ],
   "source": [
    "label_enc = LabelEncoder()\n",
    "accidents_df['Speed_limit'] = label_enc.fit_transform(accidents_df['Speed_limit'])\n",
    "accidents_df['Speed_limit']"
   ]
  },
  {
   "cell_type": "code",
   "execution_count": 19,
   "id": "grateful-broadcasting",
   "metadata": {},
   "outputs": [
    {
     "data": {
      "text/plain": [
       "0    0.986761\n",
       "1    0.013239\n",
       "Name: Accident_Severity, dtype: float64"
      ]
     },
     "execution_count": 19,
     "metadata": {},
     "output_type": "execute_result"
    }
   ],
   "source": [
    "accidents_df['Accident_Severity'].value_counts(normalize=True)"
   ]
  },
  {
   "cell_type": "markdown",
   "id": "canadian-timothy",
   "metadata": {},
   "source": [
    "### Processing Vehicle Data"
   ]
  },
  {
   "cell_type": "code",
   "execution_count": 20,
   "id": "chronic-version",
   "metadata": {},
   "outputs": [
    {
     "data": {
      "text/plain": [
       "Accident_Index                     0\n",
       "Vehicle_Type                    1750\n",
       "Vehicle_Manoeuvre              29693\n",
       "Journey_Purpose_of_Driver      45050\n",
       "Sex_of_Driver                    100\n",
       "Age_Band_of_Driver            476400\n",
       "Engine_Capacity_(CC)         1079663\n",
       "Age_of_Vehicle               1207692\n",
       "dtype: int64"
      ]
     },
     "execution_count": 20,
     "metadata": {},
     "output_type": "execute_result"
    }
   ],
   "source": [
    "vehicles_df[vehicles_df == -1].count()"
   ]
  },
  {
   "cell_type": "code",
   "execution_count": 21,
   "id": "infinite-recording",
   "metadata": {},
   "outputs": [
    {
     "data": {
      "text/plain": [
       "Accident_Index               0\n",
       "Vehicle_Type                 0\n",
       "Vehicle_Manoeuvre            0\n",
       "Journey_Purpose_of_Driver    0\n",
       "Sex_of_Driver                0\n",
       "Age_Band_of_Driver           0\n",
       "Engine_Capacity_(CC)         0\n",
       "Age_of_Vehicle               0\n",
       "dtype: int64"
      ]
     },
     "execution_count": 21,
     "metadata": {},
     "output_type": "execute_result"
    }
   ],
   "source": [
    "vehicles_df.isna().sum()"
   ]
  },
  {
   "cell_type": "code",
   "execution_count": 22,
   "id": "white-gilbert",
   "metadata": {},
   "outputs": [
    {
     "data": {
      "text/plain": [
       "4196486"
      ]
     },
     "execution_count": 22,
     "metadata": {},
     "output_type": "execute_result"
    }
   ],
   "source": [
    "len(vehicles_df)"
   ]
  },
  {
   "cell_type": "code",
   "execution_count": 23,
   "id": "informal-lexington",
   "metadata": {},
   "outputs": [],
   "source": [
    "def convert_age_of_vehicle(age):\n",
    "    if age <= 5: return age\n",
    "    elif 5 < age <= 10: return 6\n",
    "    else: return 7\n",
    "vehicles_df['Age_of_Vehicle'] = vehicles_df['Age_of_Vehicle'].apply(convert_age_of_vehicle)"
   ]
  },
  {
   "cell_type": "code",
   "execution_count": 24,
   "id": "trained-brand",
   "metadata": {},
   "outputs": [],
   "source": [
    "vehicles_df = vehicles_df.dropna()\n",
    "vehicles_df = vehicles_df[\n",
    "    (vehicles_df['Vehicle_Type'] != -1) &\n",
    "    (vehicles_df['Vehicle_Manoeuvre'] != -1) &\n",
    "    (vehicles_df['Journey_Purpose_of_Driver'] != -1) &\n",
    "    (vehicles_df['Sex_of_Driver'] != -1) &\n",
    "    (vehicles_df['Age_Band_of_Driver'] != -1) &\n",
    "    (vehicles_df['Age_of_Vehicle'] != -1) &\n",
    "    (vehicles_df['Engine_Capacity_(CC)'] <= 10000)\n",
    "]"
   ]
  },
  {
   "cell_type": "code",
   "execution_count": 25,
   "id": "varied-bottle",
   "metadata": {},
   "outputs": [
    {
     "data": {
      "text/html": [
       "<div>\n",
       "<style scoped>\n",
       "    .dataframe tbody tr th:only-of-type {\n",
       "        vertical-align: middle;\n",
       "    }\n",
       "\n",
       "    .dataframe tbody tr th {\n",
       "        vertical-align: top;\n",
       "    }\n",
       "\n",
       "    .dataframe thead th {\n",
       "        text-align: right;\n",
       "    }\n",
       "</style>\n",
       "<table border=\"1\" class=\"dataframe\">\n",
       "  <thead>\n",
       "    <tr style=\"text-align: right;\">\n",
       "      <th></th>\n",
       "      <th>Accident_Index</th>\n",
       "      <th>Vehicle_Type</th>\n",
       "      <th>Vehicle_Manoeuvre</th>\n",
       "      <th>Journey_Purpose_of_Driver</th>\n",
       "      <th>Sex_of_Driver</th>\n",
       "      <th>Age_Band_of_Driver</th>\n",
       "      <th>Engine_Capacity_(CC)</th>\n",
       "      <th>Age_of_Vehicle</th>\n",
       "    </tr>\n",
       "  </thead>\n",
       "  <tbody>\n",
       "    <tr>\n",
       "      <th>1</th>\n",
       "      <td>200501BS00002</td>\n",
       "      <td>11</td>\n",
       "      <td>4</td>\n",
       "      <td>1</td>\n",
       "      <td>1</td>\n",
       "      <td>7</td>\n",
       "      <td>8268</td>\n",
       "      <td>3</td>\n",
       "    </tr>\n",
       "    <tr>\n",
       "      <th>2</th>\n",
       "      <td>200501BS00003</td>\n",
       "      <td>11</td>\n",
       "      <td>17</td>\n",
       "      <td>1</td>\n",
       "      <td>1</td>\n",
       "      <td>6</td>\n",
       "      <td>8300</td>\n",
       "      <td>5</td>\n",
       "    </tr>\n",
       "    <tr>\n",
       "      <th>3</th>\n",
       "      <td>200501BS00003</td>\n",
       "      <td>9</td>\n",
       "      <td>2</td>\n",
       "      <td>15</td>\n",
       "      <td>1</td>\n",
       "      <td>9</td>\n",
       "      <td>1762</td>\n",
       "      <td>6</td>\n",
       "    </tr>\n",
       "    <tr>\n",
       "      <th>4</th>\n",
       "      <td>200501BS00004</td>\n",
       "      <td>9</td>\n",
       "      <td>18</td>\n",
       "      <td>15</td>\n",
       "      <td>2</td>\n",
       "      <td>8</td>\n",
       "      <td>1769</td>\n",
       "      <td>4</td>\n",
       "    </tr>\n",
       "    <tr>\n",
       "      <th>5</th>\n",
       "      <td>200501BS00005</td>\n",
       "      <td>3</td>\n",
       "      <td>18</td>\n",
       "      <td>15</td>\n",
       "      <td>1</td>\n",
       "      <td>8</td>\n",
       "      <td>85</td>\n",
       "      <td>6</td>\n",
       "    </tr>\n",
       "    <tr>\n",
       "      <th>...</th>\n",
       "      <td>...</td>\n",
       "      <td>...</td>\n",
       "      <td>...</td>\n",
       "      <td>...</td>\n",
       "      <td>...</td>\n",
       "      <td>...</td>\n",
       "      <td>...</td>\n",
       "      <td>...</td>\n",
       "    </tr>\n",
       "    <tr>\n",
       "      <th>4196481</th>\n",
       "      <td>2019984107019</td>\n",
       "      <td>19</td>\n",
       "      <td>18</td>\n",
       "      <td>1</td>\n",
       "      <td>1</td>\n",
       "      <td>4</td>\n",
       "      <td>2198</td>\n",
       "      <td>4</td>\n",
       "    </tr>\n",
       "    <tr>\n",
       "      <th>4196482</th>\n",
       "      <td>2019984107219</td>\n",
       "      <td>9</td>\n",
       "      <td>18</td>\n",
       "      <td>6</td>\n",
       "      <td>1</td>\n",
       "      <td>6</td>\n",
       "      <td>1997</td>\n",
       "      <td>7</td>\n",
       "    </tr>\n",
       "    <tr>\n",
       "      <th>4196483</th>\n",
       "      <td>2019984107219</td>\n",
       "      <td>9</td>\n",
       "      <td>18</td>\n",
       "      <td>6</td>\n",
       "      <td>1</td>\n",
       "      <td>9</td>\n",
       "      <td>2967</td>\n",
       "      <td>5</td>\n",
       "    </tr>\n",
       "    <tr>\n",
       "      <th>4196484</th>\n",
       "      <td>2019984107419</td>\n",
       "      <td>9</td>\n",
       "      <td>7</td>\n",
       "      <td>5</td>\n",
       "      <td>1</td>\n",
       "      <td>11</td>\n",
       "      <td>1597</td>\n",
       "      <td>6</td>\n",
       "    </tr>\n",
       "    <tr>\n",
       "      <th>4196485</th>\n",
       "      <td>201998QC01004</td>\n",
       "      <td>5</td>\n",
       "      <td>16</td>\n",
       "      <td>6</td>\n",
       "      <td>1</td>\n",
       "      <td>8</td>\n",
       "      <td>599</td>\n",
       "      <td>7</td>\n",
       "    </tr>\n",
       "  </tbody>\n",
       "</table>\n",
       "<p>2696758 rows × 8 columns</p>\n",
       "</div>"
      ],
      "text/plain": [
       "        Accident_Index  Vehicle_Type  Vehicle_Manoeuvre  \\\n",
       "1        200501BS00002            11                  4   \n",
       "2        200501BS00003            11                 17   \n",
       "3        200501BS00003             9                  2   \n",
       "4        200501BS00004             9                 18   \n",
       "5        200501BS00005             3                 18   \n",
       "...                ...           ...                ...   \n",
       "4196481  2019984107019            19                 18   \n",
       "4196482  2019984107219             9                 18   \n",
       "4196483  2019984107219             9                 18   \n",
       "4196484  2019984107419             9                  7   \n",
       "4196485  201998QC01004             5                 16   \n",
       "\n",
       "         Journey_Purpose_of_Driver  Sex_of_Driver  Age_Band_of_Driver  \\\n",
       "1                                1              1                   7   \n",
       "2                                1              1                   6   \n",
       "3                               15              1                   9   \n",
       "4                               15              2                   8   \n",
       "5                               15              1                   8   \n",
       "...                            ...            ...                 ...   \n",
       "4196481                          1              1                   4   \n",
       "4196482                          6              1                   6   \n",
       "4196483                          6              1                   9   \n",
       "4196484                          5              1                  11   \n",
       "4196485                          6              1                   8   \n",
       "\n",
       "         Engine_Capacity_(CC)  Age_of_Vehicle  \n",
       "1                        8268               3  \n",
       "2                        8300               5  \n",
       "3                        1762               6  \n",
       "4                        1769               4  \n",
       "5                          85               6  \n",
       "...                       ...             ...  \n",
       "4196481                  2198               4  \n",
       "4196482                  1997               7  \n",
       "4196483                  2967               5  \n",
       "4196484                  1597               6  \n",
       "4196485                   599               7  \n",
       "\n",
       "[2696758 rows x 8 columns]"
      ]
     },
     "execution_count": 25,
     "metadata": {},
     "output_type": "execute_result"
    }
   ],
   "source": [
    "vehicles_df"
   ]
  },
  {
   "cell_type": "code",
   "execution_count": 26,
   "id": "unusual-proxy",
   "metadata": {},
   "outputs": [],
   "source": [
    "df = pd.merge(accidents_df, vehicles_df, on='Accident_Index')"
   ]
  },
  {
   "cell_type": "code",
   "execution_count": 27,
   "id": "three-temple",
   "metadata": {},
   "outputs": [
    {
     "data": {
      "text/html": [
       "<div>\n",
       "<style scoped>\n",
       "    .dataframe tbody tr th:only-of-type {\n",
       "        vertical-align: middle;\n",
       "    }\n",
       "\n",
       "    .dataframe tbody tr th {\n",
       "        vertical-align: top;\n",
       "    }\n",
       "\n",
       "    .dataframe thead th {\n",
       "        text-align: right;\n",
       "    }\n",
       "</style>\n",
       "<table border=\"1\" class=\"dataframe\">\n",
       "  <thead>\n",
       "    <tr style=\"text-align: right;\">\n",
       "      <th></th>\n",
       "      <th>Accident_Index</th>\n",
       "      <th>Road_Type</th>\n",
       "      <th>Speed_limit</th>\n",
       "      <th>Junction_Detail</th>\n",
       "      <th>Light_Conditions</th>\n",
       "      <th>Weather_Conditions</th>\n",
       "      <th>Road_Surface_Conditions</th>\n",
       "      <th>Urban_or_Rural_Area</th>\n",
       "      <th>Accident_Severity</th>\n",
       "      <th>Daytime</th>\n",
       "      <th>Vehicle_Type</th>\n",
       "      <th>Vehicle_Manoeuvre</th>\n",
       "      <th>Journey_Purpose_of_Driver</th>\n",
       "      <th>Sex_of_Driver</th>\n",
       "      <th>Age_Band_of_Driver</th>\n",
       "      <th>Engine_Capacity_(CC)</th>\n",
       "      <th>Age_of_Vehicle</th>\n",
       "    </tr>\n",
       "  </thead>\n",
       "  <tbody>\n",
       "    <tr>\n",
       "      <th>0</th>\n",
       "      <td>200501BS00002</td>\n",
       "      <td>3</td>\n",
       "      <td>0</td>\n",
       "      <td>6</td>\n",
       "      <td>4</td>\n",
       "      <td>1</td>\n",
       "      <td>1</td>\n",
       "      <td>1</td>\n",
       "      <td>0</td>\n",
       "      <td>3</td>\n",
       "      <td>11</td>\n",
       "      <td>4</td>\n",
       "      <td>1</td>\n",
       "      <td>1</td>\n",
       "      <td>7</td>\n",
       "      <td>8268</td>\n",
       "      <td>3</td>\n",
       "    </tr>\n",
       "    <tr>\n",
       "      <th>1</th>\n",
       "      <td>200501BS00003</td>\n",
       "      <td>6</td>\n",
       "      <td>0</td>\n",
       "      <td>0</td>\n",
       "      <td>4</td>\n",
       "      <td>1</td>\n",
       "      <td>1</td>\n",
       "      <td>1</td>\n",
       "      <td>0</td>\n",
       "      <td>5</td>\n",
       "      <td>11</td>\n",
       "      <td>17</td>\n",
       "      <td>1</td>\n",
       "      <td>1</td>\n",
       "      <td>6</td>\n",
       "      <td>8300</td>\n",
       "      <td>5</td>\n",
       "    </tr>\n",
       "    <tr>\n",
       "      <th>2</th>\n",
       "      <td>200501BS00003</td>\n",
       "      <td>6</td>\n",
       "      <td>0</td>\n",
       "      <td>0</td>\n",
       "      <td>4</td>\n",
       "      <td>1</td>\n",
       "      <td>1</td>\n",
       "      <td>1</td>\n",
       "      <td>0</td>\n",
       "      <td>5</td>\n",
       "      <td>9</td>\n",
       "      <td>2</td>\n",
       "      <td>15</td>\n",
       "      <td>1</td>\n",
       "      <td>9</td>\n",
       "      <td>1762</td>\n",
       "      <td>6</td>\n",
       "    </tr>\n",
       "    <tr>\n",
       "      <th>3</th>\n",
       "      <td>200501BS00004</td>\n",
       "      <td>6</td>\n",
       "      <td>0</td>\n",
       "      <td>0</td>\n",
       "      <td>1</td>\n",
       "      <td>1</td>\n",
       "      <td>1</td>\n",
       "      <td>1</td>\n",
       "      <td>0</td>\n",
       "      <td>2</td>\n",
       "      <td>9</td>\n",
       "      <td>18</td>\n",
       "      <td>15</td>\n",
       "      <td>2</td>\n",
       "      <td>8</td>\n",
       "      <td>1769</td>\n",
       "      <td>4</td>\n",
       "    </tr>\n",
       "    <tr>\n",
       "      <th>4</th>\n",
       "      <td>200501BS00005</td>\n",
       "      <td>6</td>\n",
       "      <td>0</td>\n",
       "      <td>0</td>\n",
       "      <td>7</td>\n",
       "      <td>1</td>\n",
       "      <td>2</td>\n",
       "      <td>1</td>\n",
       "      <td>0</td>\n",
       "      <td>4</td>\n",
       "      <td>3</td>\n",
       "      <td>18</td>\n",
       "      <td>15</td>\n",
       "      <td>1</td>\n",
       "      <td>8</td>\n",
       "      <td>85</td>\n",
       "      <td>6</td>\n",
       "    </tr>\n",
       "    <tr>\n",
       "      <th>...</th>\n",
       "      <td>...</td>\n",
       "      <td>...</td>\n",
       "      <td>...</td>\n",
       "      <td>...</td>\n",
       "      <td>...</td>\n",
       "      <td>...</td>\n",
       "      <td>...</td>\n",
       "      <td>...</td>\n",
       "      <td>...</td>\n",
       "      <td>...</td>\n",
       "      <td>...</td>\n",
       "      <td>...</td>\n",
       "      <td>...</td>\n",
       "      <td>...</td>\n",
       "      <td>...</td>\n",
       "      <td>...</td>\n",
       "      <td>...</td>\n",
       "    </tr>\n",
       "    <tr>\n",
       "      <th>2569511</th>\n",
       "      <td>2019984107019</td>\n",
       "      <td>6</td>\n",
       "      <td>3</td>\n",
       "      <td>0</td>\n",
       "      <td>1</td>\n",
       "      <td>1</td>\n",
       "      <td>2</td>\n",
       "      <td>2</td>\n",
       "      <td>0</td>\n",
       "      <td>1</td>\n",
       "      <td>19</td>\n",
       "      <td>18</td>\n",
       "      <td>1</td>\n",
       "      <td>1</td>\n",
       "      <td>4</td>\n",
       "      <td>2198</td>\n",
       "      <td>4</td>\n",
       "    </tr>\n",
       "    <tr>\n",
       "      <th>2569512</th>\n",
       "      <td>2019984107219</td>\n",
       "      <td>6</td>\n",
       "      <td>3</td>\n",
       "      <td>3</td>\n",
       "      <td>1</td>\n",
       "      <td>1</td>\n",
       "      <td>1</td>\n",
       "      <td>2</td>\n",
       "      <td>0</td>\n",
       "      <td>3</td>\n",
       "      <td>9</td>\n",
       "      <td>18</td>\n",
       "      <td>6</td>\n",
       "      <td>1</td>\n",
       "      <td>6</td>\n",
       "      <td>1997</td>\n",
       "      <td>7</td>\n",
       "    </tr>\n",
       "    <tr>\n",
       "      <th>2569513</th>\n",
       "      <td>2019984107219</td>\n",
       "      <td>6</td>\n",
       "      <td>3</td>\n",
       "      <td>3</td>\n",
       "      <td>1</td>\n",
       "      <td>1</td>\n",
       "      <td>1</td>\n",
       "      <td>2</td>\n",
       "      <td>0</td>\n",
       "      <td>3</td>\n",
       "      <td>9</td>\n",
       "      <td>18</td>\n",
       "      <td>6</td>\n",
       "      <td>1</td>\n",
       "      <td>9</td>\n",
       "      <td>2967</td>\n",
       "      <td>5</td>\n",
       "    </tr>\n",
       "    <tr>\n",
       "      <th>2569514</th>\n",
       "      <td>2019984107419</td>\n",
       "      <td>6</td>\n",
       "      <td>0</td>\n",
       "      <td>3</td>\n",
       "      <td>1</td>\n",
       "      <td>1</td>\n",
       "      <td>1</td>\n",
       "      <td>2</td>\n",
       "      <td>0</td>\n",
       "      <td>2</td>\n",
       "      <td>9</td>\n",
       "      <td>7</td>\n",
       "      <td>5</td>\n",
       "      <td>1</td>\n",
       "      <td>11</td>\n",
       "      <td>1597</td>\n",
       "      <td>6</td>\n",
       "    </tr>\n",
       "    <tr>\n",
       "      <th>2569515</th>\n",
       "      <td>201998QC01004</td>\n",
       "      <td>6</td>\n",
       "      <td>3</td>\n",
       "      <td>0</td>\n",
       "      <td>1</td>\n",
       "      <td>1</td>\n",
       "      <td>1</td>\n",
       "      <td>2</td>\n",
       "      <td>0</td>\n",
       "      <td>2</td>\n",
       "      <td>5</td>\n",
       "      <td>16</td>\n",
       "      <td>6</td>\n",
       "      <td>1</td>\n",
       "      <td>8</td>\n",
       "      <td>599</td>\n",
       "      <td>7</td>\n",
       "    </tr>\n",
       "  </tbody>\n",
       "</table>\n",
       "<p>2569516 rows × 17 columns</p>\n",
       "</div>"
      ],
      "text/plain": [
       "        Accident_Index  Road_Type  Speed_limit  Junction_Detail  \\\n",
       "0        200501BS00002          3            0                6   \n",
       "1        200501BS00003          6            0                0   \n",
       "2        200501BS00003          6            0                0   \n",
       "3        200501BS00004          6            0                0   \n",
       "4        200501BS00005          6            0                0   \n",
       "...                ...        ...          ...              ...   \n",
       "2569511  2019984107019          6            3                0   \n",
       "2569512  2019984107219          6            3                3   \n",
       "2569513  2019984107219          6            3                3   \n",
       "2569514  2019984107419          6            0                3   \n",
       "2569515  201998QC01004          6            3                0   \n",
       "\n",
       "         Light_Conditions  Weather_Conditions  Road_Surface_Conditions  \\\n",
       "0                       4                   1                        1   \n",
       "1                       4                   1                        1   \n",
       "2                       4                   1                        1   \n",
       "3                       1                   1                        1   \n",
       "4                       7                   1                        2   \n",
       "...                   ...                 ...                      ...   \n",
       "2569511                 1                   1                        2   \n",
       "2569512                 1                   1                        1   \n",
       "2569513                 1                   1                        1   \n",
       "2569514                 1                   1                        1   \n",
       "2569515                 1                   1                        1   \n",
       "\n",
       "         Urban_or_Rural_Area  Accident_Severity  Daytime  Vehicle_Type  \\\n",
       "0                          1                  0        3            11   \n",
       "1                          1                  0        5            11   \n",
       "2                          1                  0        5             9   \n",
       "3                          1                  0        2             9   \n",
       "4                          1                  0        4             3   \n",
       "...                      ...                ...      ...           ...   \n",
       "2569511                    2                  0        1            19   \n",
       "2569512                    2                  0        3             9   \n",
       "2569513                    2                  0        3             9   \n",
       "2569514                    2                  0        2             9   \n",
       "2569515                    2                  0        2             5   \n",
       "\n",
       "         Vehicle_Manoeuvre  Journey_Purpose_of_Driver  Sex_of_Driver  \\\n",
       "0                        4                          1              1   \n",
       "1                       17                          1              1   \n",
       "2                        2                         15              1   \n",
       "3                       18                         15              2   \n",
       "4                       18                         15              1   \n",
       "...                    ...                        ...            ...   \n",
       "2569511                 18                          1              1   \n",
       "2569512                 18                          6              1   \n",
       "2569513                 18                          6              1   \n",
       "2569514                  7                          5              1   \n",
       "2569515                 16                          6              1   \n",
       "\n",
       "         Age_Band_of_Driver  Engine_Capacity_(CC)  Age_of_Vehicle  \n",
       "0                         7                  8268               3  \n",
       "1                         6                  8300               5  \n",
       "2                         9                  1762               6  \n",
       "3                         8                  1769               4  \n",
       "4                         8                    85               6  \n",
       "...                     ...                   ...             ...  \n",
       "2569511                   4                  2198               4  \n",
       "2569512                   6                  1997               7  \n",
       "2569513                   9                  2967               5  \n",
       "2569514                  11                  1597               6  \n",
       "2569515                   8                   599               7  \n",
       "\n",
       "[2569516 rows x 17 columns]"
      ]
     },
     "execution_count": 27,
     "metadata": {},
     "output_type": "execute_result"
    }
   ],
   "source": [
    "df"
   ]
  },
  {
   "cell_type": "code",
   "execution_count": 28,
   "id": "southeast-jerusalem",
   "metadata": {},
   "outputs": [
    {
     "data": {
      "text/plain": [
       "Accident_Index               0\n",
       "Road_Type                    0\n",
       "Speed_limit                  0\n",
       "Junction_Detail              0\n",
       "Light_Conditions             0\n",
       "Weather_Conditions           0\n",
       "Road_Surface_Conditions      0\n",
       "Urban_or_Rural_Area          0\n",
       "Accident_Severity            0\n",
       "Daytime                      0\n",
       "Vehicle_Type                 0\n",
       "Vehicle_Manoeuvre            0\n",
       "Journey_Purpose_of_Driver    0\n",
       "Sex_of_Driver                0\n",
       "Age_Band_of_Driver           0\n",
       "Engine_Capacity_(CC)         0\n",
       "Age_of_Vehicle               0\n",
       "dtype: int64"
      ]
     },
     "execution_count": 28,
     "metadata": {},
     "output_type": "execute_result"
    }
   ],
   "source": [
    "df.isna().sum()"
   ]
  },
  {
   "cell_type": "markdown",
   "id": "fleet-salon",
   "metadata": {},
   "source": [
    "## Generate Training and Testing Data"
   ]
  },
  {
   "cell_type": "code",
   "execution_count": 29,
   "id": "loaded-mexico",
   "metadata": {},
   "outputs": [],
   "source": [
    "y = df['Accident_Severity']"
   ]
  },
  {
   "cell_type": "code",
   "execution_count": 30,
   "id": "heated-eleven",
   "metadata": {},
   "outputs": [],
   "source": [
    "X = df.drop(columns=['Accident_Index', 'Accident_Severity'])"
   ]
  },
  {
   "cell_type": "code",
   "execution_count": 31,
   "id": "unauthorized-potato",
   "metadata": {},
   "outputs": [
    {
     "data": {
      "text/html": [
       "<div>\n",
       "<style scoped>\n",
       "    .dataframe tbody tr th:only-of-type {\n",
       "        vertical-align: middle;\n",
       "    }\n",
       "\n",
       "    .dataframe tbody tr th {\n",
       "        vertical-align: top;\n",
       "    }\n",
       "\n",
       "    .dataframe thead th {\n",
       "        text-align: right;\n",
       "    }\n",
       "</style>\n",
       "<table border=\"1\" class=\"dataframe\">\n",
       "  <thead>\n",
       "    <tr style=\"text-align: right;\">\n",
       "      <th></th>\n",
       "      <th>Road_Type</th>\n",
       "      <th>Speed_limit</th>\n",
       "      <th>Junction_Detail</th>\n",
       "      <th>Light_Conditions</th>\n",
       "      <th>Weather_Conditions</th>\n",
       "      <th>Road_Surface_Conditions</th>\n",
       "      <th>Urban_or_Rural_Area</th>\n",
       "      <th>Daytime</th>\n",
       "      <th>Vehicle_Type</th>\n",
       "      <th>Vehicle_Manoeuvre</th>\n",
       "      <th>Journey_Purpose_of_Driver</th>\n",
       "      <th>Sex_of_Driver</th>\n",
       "      <th>Age_Band_of_Driver</th>\n",
       "      <th>Engine_Capacity_(CC)</th>\n",
       "      <th>Age_of_Vehicle</th>\n",
       "    </tr>\n",
       "  </thead>\n",
       "  <tbody>\n",
       "    <tr>\n",
       "      <th>0</th>\n",
       "      <td>3</td>\n",
       "      <td>0</td>\n",
       "      <td>6</td>\n",
       "      <td>4</td>\n",
       "      <td>1</td>\n",
       "      <td>1</td>\n",
       "      <td>1</td>\n",
       "      <td>3</td>\n",
       "      <td>11</td>\n",
       "      <td>4</td>\n",
       "      <td>1</td>\n",
       "      <td>1</td>\n",
       "      <td>7</td>\n",
       "      <td>8268</td>\n",
       "      <td>3</td>\n",
       "    </tr>\n",
       "    <tr>\n",
       "      <th>1</th>\n",
       "      <td>6</td>\n",
       "      <td>0</td>\n",
       "      <td>0</td>\n",
       "      <td>4</td>\n",
       "      <td>1</td>\n",
       "      <td>1</td>\n",
       "      <td>1</td>\n",
       "      <td>5</td>\n",
       "      <td>11</td>\n",
       "      <td>17</td>\n",
       "      <td>1</td>\n",
       "      <td>1</td>\n",
       "      <td>6</td>\n",
       "      <td>8300</td>\n",
       "      <td>5</td>\n",
       "    </tr>\n",
       "    <tr>\n",
       "      <th>2</th>\n",
       "      <td>6</td>\n",
       "      <td>0</td>\n",
       "      <td>0</td>\n",
       "      <td>4</td>\n",
       "      <td>1</td>\n",
       "      <td>1</td>\n",
       "      <td>1</td>\n",
       "      <td>5</td>\n",
       "      <td>9</td>\n",
       "      <td>2</td>\n",
       "      <td>15</td>\n",
       "      <td>1</td>\n",
       "      <td>9</td>\n",
       "      <td>1762</td>\n",
       "      <td>6</td>\n",
       "    </tr>\n",
       "    <tr>\n",
       "      <th>3</th>\n",
       "      <td>6</td>\n",
       "      <td>0</td>\n",
       "      <td>0</td>\n",
       "      <td>1</td>\n",
       "      <td>1</td>\n",
       "      <td>1</td>\n",
       "      <td>1</td>\n",
       "      <td>2</td>\n",
       "      <td>9</td>\n",
       "      <td>18</td>\n",
       "      <td>15</td>\n",
       "      <td>2</td>\n",
       "      <td>8</td>\n",
       "      <td>1769</td>\n",
       "      <td>4</td>\n",
       "    </tr>\n",
       "    <tr>\n",
       "      <th>4</th>\n",
       "      <td>6</td>\n",
       "      <td>0</td>\n",
       "      <td>0</td>\n",
       "      <td>7</td>\n",
       "      <td>1</td>\n",
       "      <td>2</td>\n",
       "      <td>1</td>\n",
       "      <td>4</td>\n",
       "      <td>3</td>\n",
       "      <td>18</td>\n",
       "      <td>15</td>\n",
       "      <td>1</td>\n",
       "      <td>8</td>\n",
       "      <td>85</td>\n",
       "      <td>6</td>\n",
       "    </tr>\n",
       "    <tr>\n",
       "      <th>...</th>\n",
       "      <td>...</td>\n",
       "      <td>...</td>\n",
       "      <td>...</td>\n",
       "      <td>...</td>\n",
       "      <td>...</td>\n",
       "      <td>...</td>\n",
       "      <td>...</td>\n",
       "      <td>...</td>\n",
       "      <td>...</td>\n",
       "      <td>...</td>\n",
       "      <td>...</td>\n",
       "      <td>...</td>\n",
       "      <td>...</td>\n",
       "      <td>...</td>\n",
       "      <td>...</td>\n",
       "    </tr>\n",
       "    <tr>\n",
       "      <th>2569511</th>\n",
       "      <td>6</td>\n",
       "      <td>3</td>\n",
       "      <td>0</td>\n",
       "      <td>1</td>\n",
       "      <td>1</td>\n",
       "      <td>2</td>\n",
       "      <td>2</td>\n",
       "      <td>1</td>\n",
       "      <td>19</td>\n",
       "      <td>18</td>\n",
       "      <td>1</td>\n",
       "      <td>1</td>\n",
       "      <td>4</td>\n",
       "      <td>2198</td>\n",
       "      <td>4</td>\n",
       "    </tr>\n",
       "    <tr>\n",
       "      <th>2569512</th>\n",
       "      <td>6</td>\n",
       "      <td>3</td>\n",
       "      <td>3</td>\n",
       "      <td>1</td>\n",
       "      <td>1</td>\n",
       "      <td>1</td>\n",
       "      <td>2</td>\n",
       "      <td>3</td>\n",
       "      <td>9</td>\n",
       "      <td>18</td>\n",
       "      <td>6</td>\n",
       "      <td>1</td>\n",
       "      <td>6</td>\n",
       "      <td>1997</td>\n",
       "      <td>7</td>\n",
       "    </tr>\n",
       "    <tr>\n",
       "      <th>2569513</th>\n",
       "      <td>6</td>\n",
       "      <td>3</td>\n",
       "      <td>3</td>\n",
       "      <td>1</td>\n",
       "      <td>1</td>\n",
       "      <td>1</td>\n",
       "      <td>2</td>\n",
       "      <td>3</td>\n",
       "      <td>9</td>\n",
       "      <td>18</td>\n",
       "      <td>6</td>\n",
       "      <td>1</td>\n",
       "      <td>9</td>\n",
       "      <td>2967</td>\n",
       "      <td>5</td>\n",
       "    </tr>\n",
       "    <tr>\n",
       "      <th>2569514</th>\n",
       "      <td>6</td>\n",
       "      <td>0</td>\n",
       "      <td>3</td>\n",
       "      <td>1</td>\n",
       "      <td>1</td>\n",
       "      <td>1</td>\n",
       "      <td>2</td>\n",
       "      <td>2</td>\n",
       "      <td>9</td>\n",
       "      <td>7</td>\n",
       "      <td>5</td>\n",
       "      <td>1</td>\n",
       "      <td>11</td>\n",
       "      <td>1597</td>\n",
       "      <td>6</td>\n",
       "    </tr>\n",
       "    <tr>\n",
       "      <th>2569515</th>\n",
       "      <td>6</td>\n",
       "      <td>3</td>\n",
       "      <td>0</td>\n",
       "      <td>1</td>\n",
       "      <td>1</td>\n",
       "      <td>1</td>\n",
       "      <td>2</td>\n",
       "      <td>2</td>\n",
       "      <td>5</td>\n",
       "      <td>16</td>\n",
       "      <td>6</td>\n",
       "      <td>1</td>\n",
       "      <td>8</td>\n",
       "      <td>599</td>\n",
       "      <td>7</td>\n",
       "    </tr>\n",
       "  </tbody>\n",
       "</table>\n",
       "<p>2569516 rows × 15 columns</p>\n",
       "</div>"
      ],
      "text/plain": [
       "         Road_Type  Speed_limit  Junction_Detail  Light_Conditions  \\\n",
       "0                3            0                6                 4   \n",
       "1                6            0                0                 4   \n",
       "2                6            0                0                 4   \n",
       "3                6            0                0                 1   \n",
       "4                6            0                0                 7   \n",
       "...            ...          ...              ...               ...   \n",
       "2569511          6            3                0                 1   \n",
       "2569512          6            3                3                 1   \n",
       "2569513          6            3                3                 1   \n",
       "2569514          6            0                3                 1   \n",
       "2569515          6            3                0                 1   \n",
       "\n",
       "         Weather_Conditions  Road_Surface_Conditions  Urban_or_Rural_Area  \\\n",
       "0                         1                        1                    1   \n",
       "1                         1                        1                    1   \n",
       "2                         1                        1                    1   \n",
       "3                         1                        1                    1   \n",
       "4                         1                        2                    1   \n",
       "...                     ...                      ...                  ...   \n",
       "2569511                   1                        2                    2   \n",
       "2569512                   1                        1                    2   \n",
       "2569513                   1                        1                    2   \n",
       "2569514                   1                        1                    2   \n",
       "2569515                   1                        1                    2   \n",
       "\n",
       "         Daytime  Vehicle_Type  Vehicle_Manoeuvre  Journey_Purpose_of_Driver  \\\n",
       "0              3            11                  4                          1   \n",
       "1              5            11                 17                          1   \n",
       "2              5             9                  2                         15   \n",
       "3              2             9                 18                         15   \n",
       "4              4             3                 18                         15   \n",
       "...          ...           ...                ...                        ...   \n",
       "2569511        1            19                 18                          1   \n",
       "2569512        3             9                 18                          6   \n",
       "2569513        3             9                 18                          6   \n",
       "2569514        2             9                  7                          5   \n",
       "2569515        2             5                 16                          6   \n",
       "\n",
       "         Sex_of_Driver  Age_Band_of_Driver  Engine_Capacity_(CC)  \\\n",
       "0                    1                   7                  8268   \n",
       "1                    1                   6                  8300   \n",
       "2                    1                   9                  1762   \n",
       "3                    2                   8                  1769   \n",
       "4                    1                   8                    85   \n",
       "...                ...                 ...                   ...   \n",
       "2569511              1                   4                  2198   \n",
       "2569512              1                   6                  1997   \n",
       "2569513              1                   9                  2967   \n",
       "2569514              1                  11                  1597   \n",
       "2569515              1                   8                   599   \n",
       "\n",
       "         Age_of_Vehicle  \n",
       "0                     3  \n",
       "1                     5  \n",
       "2                     6  \n",
       "3                     4  \n",
       "4                     6  \n",
       "...                 ...  \n",
       "2569511               4  \n",
       "2569512               7  \n",
       "2569513               5  \n",
       "2569514               6  \n",
       "2569515               7  \n",
       "\n",
       "[2569516 rows x 15 columns]"
      ]
     },
     "execution_count": 31,
     "metadata": {},
     "output_type": "execute_result"
    }
   ],
   "source": [
    "X"
   ]
  },
  {
   "cell_type": "code",
   "execution_count": 32,
   "id": "german-christian",
   "metadata": {},
   "outputs": [
    {
     "data": {
      "text/plain": [
       "0          0\n",
       "1          0\n",
       "2          0\n",
       "3          0\n",
       "4          0\n",
       "          ..\n",
       "2569511    0\n",
       "2569512    0\n",
       "2569513    0\n",
       "2569514    0\n",
       "2569515    0\n",
       "Name: Accident_Severity, Length: 2569516, dtype: int64"
      ]
     },
     "execution_count": 32,
     "metadata": {},
     "output_type": "execute_result"
    }
   ],
   "source": [
    "y"
   ]
  },
  {
   "cell_type": "code",
   "execution_count": 33,
   "id": "advanced-difference",
   "metadata": {},
   "outputs": [],
   "source": [
    "X_train, X_test, y_train, y_test = train_test_split(X, y, test_size=0.2, random_state=123)"
   ]
  },
  {
   "cell_type": "code",
   "execution_count": 34,
   "id": "czech-agriculture",
   "metadata": {},
   "outputs": [
    {
     "data": {
      "text/plain": [
       "0    0.986336\n",
       "1    0.013664\n",
       "Name: Accident_Severity, dtype: float64"
      ]
     },
     "execution_count": 34,
     "metadata": {},
     "output_type": "execute_result"
    }
   ],
   "source": [
    "y_train.value_counts(normalize=True)"
   ]
  },
  {
   "cell_type": "code",
   "execution_count": 35,
   "id": "fallen-control",
   "metadata": {},
   "outputs": [
    {
     "data": {
      "text/plain": [
       "0    0.98596\n",
       "1    0.01404\n",
       "Name: Accident_Severity, dtype: float64"
      ]
     },
     "execution_count": 35,
     "metadata": {},
     "output_type": "execute_result"
    }
   ],
   "source": [
    "y_test.value_counts(normalize=True)"
   ]
  },
  {
   "cell_type": "markdown",
   "id": "continuing-excerpt",
   "metadata": {},
   "source": [
    "## Model\n",
    "\n",
    "In the fatal accident prediction task, this work will focus on following three points.\n",
    "1. Pre-processing and feature selection stretagies\n",
    "2. Imbalance labeled data distribution\n",
    "3. Model selection"
   ]
  },
  {
   "cell_type": "code",
   "execution_count": 36,
   "id": "social-blues",
   "metadata": {},
   "outputs": [],
   "source": [
    "from sklearn.ensemble import RandomForestClassifier\n",
    "from sklearn.metrics import precision_recall_curve, average_precision_score, classification_report"
   ]
  },
  {
   "cell_type": "code",
   "execution_count": 37,
   "id": "valuable-executive",
   "metadata": {},
   "outputs": [],
   "source": [
    "n_classes = 2"
   ]
  },
  {
   "cell_type": "markdown",
   "id": "synthetic-bangkok",
   "metadata": {},
   "source": [
    "### Baseline\n",
    "\n",
    "Using naive random forest classifier as baseline solution. The reason of choosing decision tree model is because decision tree performs significant effects on discrete and low-dimensional features, in this task the chosen features are 14 features.\n",
    "\n",
    "In order to solve data imbalance problem, there are some techniques can help to address the problem.\n",
    "\n",
    "1. Downsampling\n",
    "2. Upsampling\n",
    "3. Generating artificial data"
   ]
  },
  {
   "cell_type": "code",
   "execution_count": 39,
   "id": "charitable-reader",
   "metadata": {},
   "outputs": [
    {
     "name": "stderr",
     "output_type": "stream",
     "text": [
      "[Parallel(n_jobs=-1)]: Using backend ThreadingBackend with 8 concurrent workers.\n",
      "[Parallel(n_jobs=-1)]: Done  34 tasks      | elapsed:   53.0s\n",
      "[Parallel(n_jobs=-1)]: Done 100 out of 100 | elapsed:  2.7min finished\n",
      "[Parallel(n_jobs=8)]: Using backend ThreadingBackend with 8 concurrent workers.\n",
      "[Parallel(n_jobs=8)]: Done  34 tasks      | elapsed:    0.7s\n",
      "[Parallel(n_jobs=8)]: Done 100 out of 100 | elapsed:    1.7s finished\n",
      "/Users/hlu/anaconda3/envs/torch/lib/python3.8/site-packages/sklearn/metrics/_classification.py:1245: UndefinedMetricWarning: Precision and F-score are ill-defined and being set to 0.0 in labels with no predicted samples. Use `zero_division` parameter to control this behavior.\n",
      "  _warn_prf(average, modifier, msg_start, len(result))\n"
     ]
    },
    {
     "name": "stdout",
     "output_type": "stream",
     "text": [
      "              precision    recall  f1-score   support\n",
      "\n",
      "   Non-Fatal       0.99      1.00      0.99    506689\n",
      "       Fatal       0.00      0.00      0.00      7215\n",
      "\n",
      "    accuracy                           0.99    513904\n",
      "   macro avg       0.49      0.50      0.50    513904\n",
      "weighted avg       0.97      0.99      0.98    513904\n",
      "\n"
     ]
    },
    {
     "name": "stderr",
     "output_type": "stream",
     "text": [
      "/Users/hlu/anaconda3/envs/torch/lib/python3.8/site-packages/sklearn/metrics/_classification.py:1245: UndefinedMetricWarning: Precision and F-score are ill-defined and being set to 0.0 in labels with no predicted samples. Use `zero_division` parameter to control this behavior.\n",
      "  _warn_prf(average, modifier, msg_start, len(result))\n",
      "/Users/hlu/anaconda3/envs/torch/lib/python3.8/site-packages/sklearn/metrics/_classification.py:1245: UndefinedMetricWarning: Precision and F-score are ill-defined and being set to 0.0 in labels with no predicted samples. Use `zero_division` parameter to control this behavior.\n",
      "  _warn_prf(average, modifier, msg_start, len(result))\n"
     ]
    }
   ],
   "source": [
    "# First apply naive random forest as baseline classifier, without class_weight\n",
    "rf_clf = RandomForestClassifier(max_depth=10, criterion='entropy', n_jobs=-1, random_state=1, verbose=1)\n",
    "rf_clf.fit(X_train, y_train)\n",
    "y_pred = rf_clf.predict(X_test)\n",
    "print(classification_report(y_test, y_pred, target_names=['Non-Fatal', 'Fatal']))"
   ]
  },
  {
   "cell_type": "code",
   "execution_count": 40,
   "id": "stable-reservation",
   "metadata": {},
   "outputs": [
    {
     "name": "stderr",
     "output_type": "stream",
     "text": [
      "[Parallel(n_jobs=-1)]: Using backend ThreadingBackend with 8 concurrent workers.\n",
      "[Parallel(n_jobs=-1)]: Done  34 tasks      | elapsed:  1.4min\n",
      "[Parallel(n_jobs=-1)]: Done 100 out of 100 | elapsed:  3.0min finished\n",
      "[Parallel(n_jobs=8)]: Using backend ThreadingBackend with 8 concurrent workers.\n",
      "[Parallel(n_jobs=8)]: Done  34 tasks      | elapsed:    0.9s\n",
      "[Parallel(n_jobs=8)]: Done 100 out of 100 | elapsed:    1.9s finished\n"
     ]
    },
    {
     "name": "stdout",
     "output_type": "stream",
     "text": [
      "              precision    recall  f1-score   support\n",
      "\n",
      "   Non-Fatal       0.99      0.74      0.85    506689\n",
      "       Fatal       0.04      0.72      0.07      7215\n",
      "\n",
      "    accuracy                           0.74    513904\n",
      "   macro avg       0.52      0.73      0.46    513904\n",
      "weighted avg       0.98      0.74      0.84    513904\n",
      "\n"
     ]
    }
   ],
   "source": [
    "# First apply naive random forest as baseline classifier, with automatically adjusted class_weight\n",
    "# class_weight is used to reduce the weights of major class, so as to increase the weight of minor class\n",
    "rf_clf = RandomForestClassifier(max_depth=10, criterion='entropy', n_jobs=-1, random_state=1, class_weight='balanced', verbose=1)\n",
    "rf_clf.fit(X_train, y_train)\n",
    "y_pred = rf_clf.predict(X_test)\n",
    "print(classification_report(y_test, y_pred, target_names=['Non-Fatal', 'Fatal']))"
   ]
  },
  {
   "cell_type": "markdown",
   "id": "secret-stand",
   "metadata": {},
   "source": [
    "### Improvements\n",
    "\n",
    "Hence, the improvements are proposed to address the following problems:\n",
    "\n",
    "1. Sampling strategies\n",
    "2. Feature selection"
   ]
  },
  {
   "cell_type": "markdown",
   "id": "inappropriate-trail",
   "metadata": {},
   "source": [
    "#### 1. Sampling Strategies\n",
    "\n",
    "##### SMOTE oversampling"
   ]
  },
  {
   "cell_type": "code",
   "execution_count": 41,
   "id": "familiar-engagement",
   "metadata": {},
   "outputs": [],
   "source": [
    "# First applying method is SMOTE oversampling methods\n",
    "import imblearn\n",
    "\n",
    "X_resampled, y_resampled = imblearn.over_sampling.SMOTE().fit_resample(X_train, y_train)"
   ]
  },
  {
   "cell_type": "code",
   "execution_count": 42,
   "id": "linear-simon",
   "metadata": {},
   "outputs": [
    {
     "data": {
      "text/plain": [
       "0    0.986336\n",
       "1    0.013664\n",
       "Name: Accident_Severity, dtype: float64"
      ]
     },
     "execution_count": 42,
     "metadata": {},
     "output_type": "execute_result"
    }
   ],
   "source": [
    "y_train.value_counts(normalize=True)"
   ]
  },
  {
   "cell_type": "code",
   "execution_count": 43,
   "id": "afraid-nickel",
   "metadata": {},
   "outputs": [
    {
     "data": {
      "text/plain": [
       "1    0.5\n",
       "0    0.5\n",
       "Name: Accident_Severity, dtype: float64"
      ]
     },
     "execution_count": 43,
     "metadata": {},
     "output_type": "execute_result"
    }
   ],
   "source": [
    "y_resampled.value_counts(normalize=True)"
   ]
  },
  {
   "cell_type": "code",
   "execution_count": 44,
   "id": "voluntary-delta",
   "metadata": {},
   "outputs": [],
   "source": [
    "X_train_resampled, X_test_resampled, y_train_resampled, y_test_resampled = train_test_split(\n",
    "    X_resampled, y_resampled, random_state=123\n",
    ")"
   ]
  },
  {
   "cell_type": "code",
   "execution_count": 45,
   "id": "hairy-influence",
   "metadata": {},
   "outputs": [
    {
     "name": "stderr",
     "output_type": "stream",
     "text": [
      "[Parallel(n_jobs=-1)]: Using backend ThreadingBackend with 8 concurrent workers.\n",
      "[Parallel(n_jobs=-1)]: Done  34 tasks      | elapsed:  3.3min\n",
      "[Parallel(n_jobs=-1)]: Done 100 out of 100 | elapsed:  8.2min finished\n",
      "[Parallel(n_jobs=8)]: Using backend ThreadingBackend with 8 concurrent workers.\n",
      "[Parallel(n_jobs=8)]: Done  34 tasks      | elapsed:    8.4s\n",
      "[Parallel(n_jobs=8)]: Done 100 out of 100 | elapsed:   22.4s finished\n"
     ]
    },
    {
     "name": "stdout",
     "output_type": "stream",
     "text": [
      "              precision    recall  f1-score   support\n",
      "\n",
      "   Non-Fatal       0.99      0.96      0.97    506743\n",
      "       Fatal       0.96      0.99      0.97    507020\n",
      "\n",
      "    accuracy                           0.97   1013763\n",
      "   macro avg       0.97      0.97      0.97   1013763\n",
      "weighted avg       0.97      0.97      0.97   1013763\n",
      "\n"
     ]
    }
   ],
   "source": [
    "# Random forest with SMOTE oversampling\n",
    "rf_clf = RandomForestClassifier(criterion='entropy', n_jobs=-1, random_state=1, verbose=1)\n",
    "rf_clf.fit(X_train_resampled, y_train_resampled)\n",
    "y_pred = rf_clf.predict(X_test_resampled)\n",
    "print(classification_report(y_test_resampled, y_pred, target_names=['Non-Fatal', 'Fatal']))"
   ]
  },
  {
   "cell_type": "code",
   "execution_count": 46,
   "id": "ready-handle",
   "metadata": {},
   "outputs": [
    {
     "name": "stdout",
     "output_type": "stream",
     "text": [
      "0.05586023637149454 Road_Type\n",
      "0.07592088409556128 Speed_limit\n",
      "0.07499031744328842 Junction_Detail\n",
      "0.05444402522735311 Light_Conditions\n",
      "0.025696461322694288 Weather_Conditions\n",
      "0.035740406244786485 Road_Surface_Conditions\n",
      "0.0169353768195043 Urban_or_Rural_Area\n",
      "0.04275946679856979 Daytime\n",
      "0.03265139300534174 Vehicle_Type\n",
      "0.10133041798777899 Vehicle_Manoeuvre\n",
      "0.053110204845652244 Journey_Purpose_of_Driver\n",
      "0.06635991102446694 Sex_of_Driver\n",
      "0.07426495622634757 Age_Band_of_Driver\n",
      "0.22615913446129993 Engine_Capacity_(CC)\n",
      "0.06377680812586056 Age_of_Vehicle\n"
     ]
    }
   ],
   "source": [
    "for i, j in zip(rf_clf.feature_importances_, X_train.columns):\n",
    "    print(i, j)"
   ]
  },
  {
   "cell_type": "markdown",
   "id": "wooden-found",
   "metadata": {},
   "source": [
    "##### Undersampling\n",
    "\n",
    "Random Under Sampling\n",
    "\n",
    "Randomly selected negative samples to equal amount of positive samples."
   ]
  },
  {
   "cell_type": "code",
   "execution_count": 113,
   "id": "radio-anime",
   "metadata": {},
   "outputs": [],
   "source": [
    "X_undsampled, y_undsampled = imblearn.under_sampling.RandomUnderSampler(random_state=1).fit_resample(X_train, y_train)"
   ]
  },
  {
   "cell_type": "code",
   "execution_count": 114,
   "id": "permanent-istanbul",
   "metadata": {},
   "outputs": [
    {
     "data": {
      "text/plain": [
       "1    0.5\n",
       "0    0.5\n",
       "Name: Accident_Severity, dtype: float64"
      ]
     },
     "execution_count": 114,
     "metadata": {},
     "output_type": "execute_result"
    }
   ],
   "source": [
    "y_undsampled.value_counts(normalize=True)"
   ]
  },
  {
   "cell_type": "code",
   "execution_count": 115,
   "id": "funny-lewis",
   "metadata": {},
   "outputs": [
    {
     "data": {
      "text/plain": [
       "1    28087\n",
       "0    28087\n",
       "Name: Accident_Severity, dtype: int64"
      ]
     },
     "execution_count": 115,
     "metadata": {},
     "output_type": "execute_result"
    }
   ],
   "source": [
    "y_undsampled.value_counts()"
   ]
  },
  {
   "cell_type": "code",
   "execution_count": 116,
   "id": "vocal-visit",
   "metadata": {},
   "outputs": [],
   "source": [
    "X_train_undsampled, X_test_undsampled, y_train_undsampled, y_test_undsampled = train_test_split(\n",
    "    X_undsampled, y_undsampled, random_state=123\n",
    ")"
   ]
  },
  {
   "cell_type": "code",
   "execution_count": 117,
   "id": "hollow-honolulu",
   "metadata": {},
   "outputs": [
    {
     "name": "stderr",
     "output_type": "stream",
     "text": [
      "[Parallel(n_jobs=-1)]: Using backend ThreadingBackend with 8 concurrent workers.\n",
      "[Parallel(n_jobs=-1)]: Done  34 tasks      | elapsed:    0.9s\n"
     ]
    },
    {
     "name": "stdout",
     "output_type": "stream",
     "text": [
      "              precision    recall  f1-score   support\n",
      "\n",
      "   Non-Fatal       0.73      0.73      0.73      6986\n",
      "       Fatal       0.73      0.73      0.73      7058\n",
      "\n",
      "    accuracy                           0.73     14044\n",
      "   macro avg       0.73      0.73      0.73     14044\n",
      "weighted avg       0.73      0.73      0.73     14044\n",
      "\n"
     ]
    },
    {
     "name": "stderr",
     "output_type": "stream",
     "text": [
      "[Parallel(n_jobs=-1)]: Done 100 out of 100 | elapsed:    1.8s finished\n",
      "[Parallel(n_jobs=8)]: Using backend ThreadingBackend with 8 concurrent workers.\n",
      "[Parallel(n_jobs=8)]: Done  34 tasks      | elapsed:    0.0s\n",
      "[Parallel(n_jobs=8)]: Done 100 out of 100 | elapsed:    0.1s finished\n"
     ]
    }
   ],
   "source": [
    "# Random forest with random under sampler\n",
    "rf_clf = RandomForestClassifier(criterion='entropy', n_jobs=-1, random_state=1, verbose=1)\n",
    "rf_clf.fit(X_train_undsampled, y_train_undsampled)\n",
    "y_pred = rf_clf.predict(X_test_undsampled)\n",
    "print(classification_report(y_test_undsampled, y_pred, target_names=['Non-Fatal', 'Fatal']))"
   ]
  },
  {
   "cell_type": "code",
   "execution_count": 118,
   "id": "hybrid-linux",
   "metadata": {},
   "outputs": [
    {
     "name": "stdout",
     "output_type": "stream",
     "text": [
      "0.03153088368305859 Road_Type\n",
      "0.07300793016005154 Speed_limit\n",
      "0.060915909033160624 Junction_Detail\n",
      "0.0338626793758107 Light_Conditions\n",
      "0.03183912645832451 Weather_Conditions\n",
      "0.031120909533673115 Road_Surface_Conditions\n",
      "0.03406293678096145 Urban_or_Rural_Area\n",
      "0.06810994977459972 Daytime\n",
      "0.04126666792291967 Vehicle_Type\n",
      "0.10333125829086039 Vehicle_Manoeuvre\n",
      "0.06395013891014457 Journey_Purpose_of_Driver\n",
      "0.020482111792990264 Sex_of_Driver\n",
      "0.10528806833669153 Age_Band_of_Driver\n",
      "0.2110764739883848 Engine_Capacity_(CC)\n",
      "0.09015495595836846 Age_of_Vehicle\n"
     ]
    }
   ],
   "source": [
    "for i, j in zip(rf_clf.feature_importances_, X_train.columns):\n",
    "    print(i, j)"
   ]
  },
  {
   "cell_type": "markdown",
   "id": "quiet-transcription",
   "metadata": {},
   "source": [
    "#### 2. Feature Selection\n",
    "\n",
    "Instead of building feature engineering pipelines by statistical information, there is an alternative choice to filter irrelavant features before actual learning.\n",
    "\n",
    "Proposed method first uses classifier with L1-regularization penalty to punish the irrelavant features contributing to prediction. It is because the L1 norm can decrease the coefficient of irrelavant features during training, then eliminate the zero-coefficient features."
   ]
  },
  {
   "cell_type": "code",
   "execution_count": 122,
   "id": "configured-plain",
   "metadata": {},
   "outputs": [
    {
     "name": "stderr",
     "output_type": "stream",
     "text": [
      "[Parallel(n_jobs=-1)]: Using backend ThreadingBackend with 8 concurrent workers.\n",
      "[Parallel(n_jobs=-1)]: Done  34 tasks      | elapsed:  2.9min\n",
      "[Parallel(n_jobs=-1)]: Done 100 out of 100 | elapsed:  8.4min finished\n",
      "[Parallel(n_jobs=8)]: Using backend ThreadingBackend with 8 concurrent workers.\n",
      "[Parallel(n_jobs=8)]: Done  34 tasks      | elapsed:    4.5s\n",
      "[Parallel(n_jobs=8)]: Done 100 out of 100 | elapsed:   11.7s finished\n"
     ]
    },
    {
     "name": "stdout",
     "output_type": "stream",
     "text": [
      "              precision    recall  f1-score   support\n",
      "\n",
      "   Non-Fatal       0.76      0.73      0.74    506743\n",
      "       Fatal       0.74      0.77      0.75    507020\n",
      "\n",
      "    accuracy                           0.75   1013763\n",
      "   macro avg       0.75      0.75      0.75   1013763\n",
      "weighted avg       0.75      0.75      0.75   1013763\n",
      "\n"
     ]
    }
   ],
   "source": [
    "# Borrow the datasets generated by SMOTE oversampling methods\n",
    "from sklearn.feature_selection import SelectFromModel\n",
    "from sklearn.pipeline import Pipeline\n",
    "from sklearn.svm import LinearSVC\n",
    "\n",
    "clf = Pipeline([\n",
    "  ('feature_selection', SelectFromModel(LinearSVC(penalty=\"l1\", C=0.01, dual=False))),\n",
    "  ('classification', RandomForestClassifier(criterion='entropy', n_jobs=-1, random_state=1, verbose=1))\n",
    "])\n",
    "clf.fit(X_train_resampled, y_train_resampled)\n",
    "y_pred = rf_clf.predict(X_test_resampled)\n",
    "print(classification_report(y_test_resampled, y_pred, target_names=['Non-Fatal', 'Fatal']))"
   ]
  },
  {
   "cell_type": "code",
   "execution_count": null,
   "id": "charitable-abraham",
   "metadata": {},
   "outputs": [],
   "source": []
  }
 ],
 "metadata": {
  "kernelspec": {
   "display_name": "torch",
   "language": "python",
   "name": "torch"
  },
  "language_info": {
   "codemirror_mode": {
    "name": "ipython",
    "version": 3
   },
   "file_extension": ".py",
   "mimetype": "text/x-python",
   "name": "python",
   "nbconvert_exporter": "python",
   "pygments_lexer": "ipython3",
   "version": "3.8.5"
  }
 },
 "nbformat": 4,
 "nbformat_minor": 5
}
